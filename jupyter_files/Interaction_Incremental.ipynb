{
  "nbformat": 4,
  "nbformat_minor": 0,
  "metadata": {
    "colab": {
      "provenance": []
    },
    "kernelspec": {
      "name": "python3",
      "display_name": "Python 3"
    },
    "language_info": {
      "name": "python"
    }
  },
  "cells": [
    {
      "cell_type": "markdown",
      "source": [
        "# Interaction Incremental Data Creation"
      ],
      "metadata": {
        "id": "UDifUal2qMY-"
      }
    },
    {
      "cell_type": "markdown",
      "source": [
        "when using \"Trending-Now\" Recipe, can add additional interaction data to track the newest trends. Here we create one code to add incremental data"
      ],
      "metadata": {
        "id": "8ifIXB-bqWMK"
      }
    },
    {
      "cell_type": "code",
      "execution_count": null,
      "metadata": {
        "id": "iLimQksmqKaO"
      },
      "outputs": [],
      "source": [
        "import pandas as pd\n",
        "import time\n",
        "import random\n",
        "from datetime import datetime\n",
        "\n",
        "# Selecting some random USER_ID’s for generating incremental interactions.\n",
        "users_list = ['20371', '63409', '54535', '119138', '58953', '82982', '19044', '139171', '98598', '23822', '112012', '121380', '2660', '46948', '5656', '68919', '152414', '31234', '88240', '40395', '49296', '80280', '150179', '138474', '124489', '145218', '141810', '82607']\n",
        "# Selecting some random ITEM_ID’s for generating incremental interactions.\n",
        "items_list = ['153', '2459', '1792', '3948', '2363', '260', '61248', '6539', '2407', '8961']\n",
        "# Event types\n",
        "event_types = ['click', 'watch']\n",
        "\n",
        "time_epoch = int(time.time())\n",
        "time_epoch = time_epoch - 3600  # Subtract one hour\n",
        "inc_df = pd.DataFrame(columns=[\"USER_ID\", \"ITEM_ID\", \"EVENT_TYPE\", \"TIMESTAMP\", \"READABLE_TIMESTAMP\"])\n",
        "\n",
        "i = 0\n",
        "for j in range(10):  # Assuming you want to iterate 10 times\n",
        "    for user_id in users_list:\n",
        "        for item_id in items_list:\n",
        "            time_epoch += 1\n",
        "            event_type = random.choice(event_types)  # Randomly choose an event type\n",
        "            readable_timestamp = datetime.fromtimestamp(time_epoch).strftime('%Y-%m-%d %H:%M:%S')  # Convert to readable timestamp\n",
        "            list_row = [user_id, item_id, event_type, time_epoch, readable_timestamp]\n",
        "            inc_df.loc[i] = list_row\n",
        "            i += 1\n",
        "\n",
        "# Specify the path where the CSV file will be saved\n",
        "incremental_file = '/content/drive/MyDrive/Colab Notebooks/interactions_incremental_data.csv'\n",
        "# Save the DataFrame to a CSV file\n",
        "inc_df.to_csv(incremental_file, index=False)\n"
      ]
    }
  ]
}